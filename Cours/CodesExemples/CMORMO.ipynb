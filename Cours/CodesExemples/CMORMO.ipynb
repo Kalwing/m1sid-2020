{
 "cells": [
  {
   "cell_type": "code",
   "execution_count": null,
   "metadata": {},
   "outputs": [],
   "source": [
    "import numpy as np\n",
    "def compute(dim0,dim1):\n",
    "    for i in range(dim0):\n",
    "        for j in range(dim1):\n",
    "            c=i*j"
   ]
  },
  {
   "cell_type": "code",
   "execution_count": null,
   "metadata": {},
   "outputs": [],
   "source": [
    "def RbyR(tab):\n",
    "    xdim,ydim = tab.shape\n",
    "    for i in range(xdim):\n",
    "        for j in range(ydim):\n",
    "            tab[i,j]=i*j"
   ]
  },
  {
   "cell_type": "code",
   "execution_count": null,
   "metadata": {},
   "outputs": [],
   "source": [
    "def CbyC(tab):\n",
    "    xdim,ydim = tab.shape\n",
    "    for j in range(ydim):\n",
    "        for i in range(xdim):\n",
    "            tab[i,j]=i*j"
   ]
  },
  {
   "cell_type": "code",
   "execution_count": null,
   "metadata": {},
   "outputs": [],
   "source": [
    "dim0 = dim1 = 1000\n",
    "tab1 = np.empty((dim0,dim1))\n",
    "%timeit compute(dim0,dim1)\n",
    "%timeit RbyR(tab1)\n",
    "%timeit CbyC(tab1)"
   ]
  },
  {
   "cell_type": "code",
   "execution_count": null,
   "metadata": {},
   "outputs": [],
   "source": []
  }
 ],
 "metadata": {
  "kernelspec": {
   "display_name": "Python 3",
   "language": "python",
   "name": "python3"
  },
  "language_info": {
   "codemirror_mode": {
    "name": "ipython",
    "version": 3
   },
   "file_extension": ".py",
   "mimetype": "text/x-python",
   "name": "python",
   "nbconvert_exporter": "python",
   "pygments_lexer": "ipython3",
   "version": "3.7.1"
  }
 },
 "nbformat": 4,
 "nbformat_minor": 2
}
