{
 "cells": [
  {
   "cell_type": "code",
   "execution_count": 1,
   "metadata": {},
   "outputs": [],
   "source": [
    "import masterjdv"
   ]
  },
  {
   "cell_type": "markdown",
   "metadata": {},
   "source": [
    "Estimation des temps de restitution pour 10 x 10 100 x 100 et 1000 x 1000"
   ]
  },
  {
   "cell_type": "code",
   "execution_count": 2,
   "metadata": {},
   "outputs": [
    {
     "name": "stdout",
     "output_type": "stream",
     "text": [
      "870 µs ± 5.79 µs per loop (mean ± std. dev. of 7 runs, 1000 loops each)\n"
     ]
    }
   ],
   "source": [
    "grid = masterjdv.init_grid(10)\n",
    "%timeit masterjdv.evolution1(grid)"
   ]
  },
  {
   "cell_type": "code",
   "execution_count": 3,
   "metadata": {},
   "outputs": [
    {
     "name": "stdout",
     "output_type": "stream",
     "text": [
      "94.1 ms ± 1.02 ms per loop (mean ± std. dev. of 7 runs, 10 loops each)\n"
     ]
    }
   ],
   "source": [
    "grid = masterjdv.init_grid(100)\n",
    "%timeit masterjdv.evolution1(grid)"
   ]
  },
  {
   "cell_type": "code",
   "execution_count": 4,
   "metadata": {},
   "outputs": [
    {
     "name": "stdout",
     "output_type": "stream",
     "text": [
      "9.99 s ± 881 ms per loop (mean ± std. dev. of 7 runs, 1 loop each)\n"
     ]
    }
   ],
   "source": [
    "grid = masterjdv.init_grid(1000)\n",
    "%timeit masterjdv.evolution1(grid)"
   ]
  },
  {
   "cell_type": "markdown",
   "metadata": {},
   "source": [
    "On constate un temps d'exécution qui croit linéairement en fonction de la taille du problème (nombre de cellule  x100 à chaque fois) ce qui est cohérent avec notre algorithme qui applique un même calcul pour chaque cellule de la grille."
   ]
  },
  {
   "cell_type": "markdown",
   "metadata": {},
   "source": [
    "# Profilage"
   ]
  },
  {
   "cell_type": "markdown",
   "metadata": {},
   "source": [
    "Définition d'une grille 2000 x 2000"
   ]
  },
  {
   "cell_type": "code",
   "execution_count": 5,
   "metadata": {},
   "outputs": [],
   "source": [
    "grid = masterjdv.init_grid(2000)"
   ]
  },
  {
   "cell_type": "markdown",
   "metadata": {},
   "source": [
    "Profil de evolution1"
   ]
  },
  {
   "cell_type": "code",
   "execution_count": 6,
   "metadata": {},
   "outputs": [
    {
     "name": "stdout",
     "output_type": "stream",
     "text": [
      "         32000007 function calls in 51.414 seconds\n",
      "\n",
      "   Ordered by: standard name\n",
      "\n",
      "   ncalls  tottime  percall  cumtime  percall filename:lineno(function)\n",
      "        1    0.065    0.065   51.414   51.414 <string>:1(<module>)\n",
      "        1    5.149    5.149   51.349   51.349 masterjdv.py:25(evolution1)\n",
      "        1    0.004    0.004    0.004    0.004 masterjdv.py:28(<listcomp>)\n",
      "  4000000   40.896    0.000   45.542    0.000 masterjdv.py:6(get_nbneigh)\n",
      "        1    0.000    0.000   51.414   51.414 {built-in method builtins.exec}\n",
      "  8000002    0.931    0.000    0.931    0.000 {built-in method builtins.len}\n",
      "  8000000    2.002    0.000    2.002    0.000 {built-in method builtins.max}\n",
      "  8000000    1.713    0.000    1.713    0.000 {built-in method builtins.min}\n",
      "  4000000    0.654    0.000    0.654    0.000 {method 'append' of 'list' objects}\n",
      "        1    0.000    0.000    0.000    0.000 {method 'disable' of '_lsprof.Profiler' objects}\n",
      "\n",
      "\n"
     ]
    }
   ],
   "source": [
    "import cProfile\n",
    "cProfile.run(\"masterjdv.evolution1(grid)\")"
   ]
  },
  {
   "cell_type": "markdown",
   "metadata": {},
   "source": [
    "# Inlining\n",
    "Définition de la fonction evolution1_corr dans laquelle on intègre le calcul de nb_neigh (inlining)"
   ]
  },
  {
   "cell_type": "code",
   "execution_count": 7,
   "metadata": {},
   "outputs": [],
   "source": [
    "def evolution1_corr(grid):\n",
    "    irange=grid.shape[0]\n",
    "    jrange=grid.shape[1]\n",
    "    res_grid=[[] for i in range(irange)]\n",
    "    for j in range(jrange):\n",
    "        for i in range(irange):\n",
    "            # by default cell_state is dead\n",
    "            cell_state=0\n",
    "            # loop over neighs to count living cells\n",
    "            biinf=max(0,i-1)\n",
    "            bisup=min(irange-1,i+1)\n",
    "            bjinf=max(0,j-1)\n",
    "            bjsup=min(jrange-1,j+1)\n",
    "            nb_neigh=0\n",
    "            # loop over neighs to count living cells\n",
    "            for ii in range(biinf,bisup+1):\n",
    "                for jj in range(bjinf,bjsup+1):\n",
    "                    if grid[ii][jj] == 1:\n",
    "                        nb_neigh=nb_neigh+1\n",
    "            # in my count I count current cell itself substract the value\n",
    "            nb_neigh=nb_neigh-grid[i][j]\n",
    "            # if 2 neighbors cell state isn't modified\n",
    "            if nb_neigh==2:\n",
    "                cell_state=grid[i][j]\n",
    "            # if 3 neighbors cell state is alive\n",
    "            elif nb_neigh==3:\n",
    "                cell_state=1\n",
    "            # in other case cell state is dead (default state)\n",
    "            res_grid[i].append(cell_state)\n",
    "    return res_grid"
   ]
  },
  {
   "cell_type": "markdown",
   "metadata": {},
   "source": [
    "Profil de evolution1_corr"
   ]
  },
  {
   "cell_type": "code",
   "execution_count": 8,
   "metadata": {},
   "outputs": [
    {
     "name": "stdout",
     "output_type": "stream",
     "text": [
      "         20000005 function calls in 44.978 seconds\n",
      "\n",
      "   Ordered by: standard name\n",
      "\n",
      "   ncalls  tottime  percall  cumtime  percall filename:lineno(function)\n",
      "        1   40.917   40.917   44.904   44.904 <ipython-input-7-4661d96cf506>:1(evolution1_corr)\n",
      "        1    0.000    0.000    0.000    0.000 <ipython-input-7-4661d96cf506>:4(<listcomp>)\n",
      "        1    0.075    0.075   44.978   44.978 <string>:1(<module>)\n",
      "        1    0.000    0.000   44.978   44.978 {built-in method builtins.exec}\n",
      "  8000000    1.902    0.000    1.902    0.000 {built-in method builtins.max}\n",
      "  8000000    1.626    0.000    1.626    0.000 {built-in method builtins.min}\n",
      "  4000000    0.458    0.000    0.458    0.000 {method 'append' of 'list' objects}\n",
      "        1    0.000    0.000    0.000    0.000 {method 'disable' of '_lsprof.Profiler' objects}\n",
      "\n",
      "\n"
     ]
    }
   ],
   "source": [
    "cProfile.run(\"evolution1_corr(grid)\")"
   ]
  },
  {
   "cell_type": "markdown",
   "metadata": {},
   "source": [
    "## Résultats\n",
    "On constate une réduction du nombre d'appels de fonction :\n",
    "- 32000007 pour la 1ère version contre 20000005 pour la 2nde\n",
    "- en particulier 8000002 appel à la méthode len"
   ]
  },
  {
   "cell_type": "markdown",
   "metadata": {},
   "source": [
    "# Structures de données\n",
    "Importation du package numpy et définition de la fonction evolution1_ndarray dans laquelle on utilise des structures de données définies pour le traitement des tableaux : ndarray"
   ]
  },
  {
   "cell_type": "code",
   "execution_count": 9,
   "metadata": {},
   "outputs": [],
   "source": [
    "import numpy as np"
   ]
  },
  {
   "cell_type": "code",
   "execution_count": 10,
   "metadata": {},
   "outputs": [],
   "source": [
    "def evolution1_ndarray(grid):\n",
    "    irange=grid.shape[0]\n",
    "    jrange=grid.shape[1]\n",
    "    res_grid=np.zeros((irange,jrange))\n",
    "    for i in range(irange):\n",
    "        for j in range(jrange):\n",
    "            # by default cell_state is dead\n",
    "            cell_state=0\n",
    "            # loop over neighs to count living cells\n",
    "            biinf=max(0,i-1)\n",
    "            bisup=min(irange-1,i+1)\n",
    "            bjinf=max(0,j-1)\n",
    "            bjsup=min(jrange-1,j+1)\n",
    "            nb_neigh=0\n",
    "            # loop over neighs to count living cells\n",
    "            for ii in range(biinf,bisup+1):\n",
    "                for jj in range(bjinf,bjsup+1):\n",
    "                    if grid[ii][jj] == 1:\n",
    "                        nb_neigh=nb_neigh+1\n",
    "            # in my count I count current cell itself substract the value\n",
    "            nb_neigh=nb_neigh-grid[i][j]\n",
    "            # if 2 neighbors cell state isn't modified\n",
    "            if nb_neigh==2:\n",
    "                cell_state=grid[i][j]\n",
    "            # if 3 neighbors cell state is alive\n",
    "            elif nb_neigh==3:\n",
    "                cell_state=1\n",
    "            # in other case cell state is dead (default state)\n",
    "            res_grid[i,j]=cell_state\n",
    "    return res_grid"
   ]
  },
  {
   "cell_type": "markdown",
   "metadata": {},
   "source": [
    "Profil de evolution1_ndarray"
   ]
  },
  {
   "cell_type": "code",
   "execution_count": 11,
   "metadata": {},
   "outputs": [
    {
     "name": "stdout",
     "output_type": "stream",
     "text": [
      "         16000005 function calls in 49.257 seconds\n",
      "\n",
      "   Ordered by: standard name\n",
      "\n",
      "   ncalls  tottime  percall  cumtime  percall filename:lineno(function)\n",
      "        1   45.405   45.405   49.254   49.254 <ipython-input-10-c0654f4ebe16>:1(evolution1_ndarray)\n",
      "        1    0.003    0.003   49.256   49.256 <string>:1(<module>)\n",
      "        1    0.000    0.000   49.257   49.257 {built-in method builtins.exec}\n",
      "  8000000    2.095    0.000    2.095    0.000 {built-in method builtins.max}\n",
      "  8000000    1.755    0.000    1.755    0.000 {built-in method builtins.min}\n",
      "        1    0.000    0.000    0.000    0.000 {built-in method numpy.zeros}\n",
      "        1    0.000    0.000    0.000    0.000 {method 'disable' of '_lsprof.Profiler' objects}\n",
      "\n",
      "\n"
     ]
    }
   ],
   "source": [
    "cProfile.run(\"evolution1_ndarray(grid)\")"
   ]
  },
  {
   "cell_type": "markdown",
   "metadata": {},
   "source": [
    "Estimation des temps d'exécution pour chacune des trois fonctions"
   ]
  },
  {
   "cell_type": "code",
   "execution_count": 13,
   "metadata": {},
   "outputs": [
    {
     "name": "stdout",
     "output_type": "stream",
     "text": [
      "43.7 s ± 3.3 s per loop (mean ± std. dev. of 7 runs, 1 loop each)\n"
     ]
    }
   ],
   "source": [
    "%timeit masterjdv.evolution1(grid)"
   ]
  },
  {
   "cell_type": "code",
   "execution_count": 14,
   "metadata": {},
   "outputs": [
    {
     "name": "stdout",
     "output_type": "stream",
     "text": [
      "42.6 s ± 1.12 s per loop (mean ± std. dev. of 7 runs, 1 loop each)\n"
     ]
    }
   ],
   "source": [
    "%timeit evolution1_corr(grid)"
   ]
  },
  {
   "cell_type": "code",
   "execution_count": 15,
   "metadata": {},
   "outputs": [
    {
     "name": "stdout",
     "output_type": "stream",
     "text": [
      "39.3 s ± 2.74 s per loop (mean ± std. dev. of 7 runs, 1 loop each)\n"
     ]
    }
   ],
   "source": [
    "%timeit evolution1_ndarray(grid)"
   ]
  },
  {
   "cell_type": "markdown",
   "metadata": {},
   "source": [
    "## Résultats\n",
    "On constate un gain de performance relativement faible : 2% avec evolution1_corr 7% (resp. 10%) avec evolution1_ndarray par rapport à evolution1_corr (resp. evolution1)"
   ]
  }
 ],
 "metadata": {
  "kernelspec": {
   "display_name": "Python 3",
   "language": "python",
   "name": "python3"
  },
  "language_info": {
   "codemirror_mode": {
    "name": "ipython",
    "version": 3
   },
   "file_extension": ".py",
   "mimetype": "text/x-python",
   "name": "python",
   "nbconvert_exporter": "python",
   "pygments_lexer": "ipython3",
   "version": "3.7.1"
  }
 },
 "nbformat": 4,
 "nbformat_minor": 2
}
