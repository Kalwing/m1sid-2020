{
 "cells": [
  {
   "cell_type": "markdown",
   "metadata": {},
   "source": [
    "# Correction TP 3"
   ]
  },
  {
   "cell_type": "markdown",
   "metadata": {},
   "source": [
    "## test de mpi\n",
    "voir le fichier testmpi.py et le fichier de résusltats : testmpi.res"
   ]
  },
  {
   "cell_type": "markdown",
   "metadata": {},
   "source": [
    "## Jeu de la vie fonction principale et statistiques de survie"
   ]
  },
  {
   "cell_type": "code",
   "execution_count": 1,
   "metadata": {},
   "outputs": [],
   "source": [
    "import masterjdv3 as jdv\n",
    "import numpy as np"
   ]
  },
  {
   "cell_type": "markdown",
   "metadata": {},
   "source": [
    "### Statistiques de survie"
   ]
  },
  {
   "cell_type": "code",
   "execution_count": 2,
   "metadata": {},
   "outputs": [],
   "source": [
    "def statalive(egrid):\n",
    "    irange,jrange = egrid.shape\n",
    "    if irange - 2 <= 0 or jrange - 2 <=0:\n",
    "        return 0,0\n",
    "    else:\n",
    "        nalive = np.count_nonzero(egrid[1:irange - 1,1:jrange - 1])\n",
    "        return nalive,100 * nalive / ((irange - 2) * (jrange - 2))"
   ]
  },
  {
   "cell_type": "markdown",
   "metadata": {},
   "source": [
    "### Vérification"
   ]
  },
  {
   "cell_type": "code",
   "execution_count": 3,
   "metadata": {},
   "outputs": [],
   "source": [
    "grid = jdv.init_grid(10)\n",
    "egrid = jdv.enlarge_grid(grid)"
   ]
  },
  {
   "cell_type": "code",
   "execution_count": 4,
   "metadata": {},
   "outputs": [
    {
     "name": "stdout",
     "output_type": "stream",
     "text": [
      "49 (49, 49.0)\n"
     ]
    }
   ],
   "source": [
    "print(np.sum(grid),statalive(egrid))"
   ]
  },
  {
   "cell_type": "markdown",
   "metadata": {},
   "source": [
    "### Jeu complet\n",
    "On applique evolution_store sur la nouvelle grille résultat\n",
    "En bonus un petit affichage"
   ]
  },
  {
   "cell_type": "code",
   "execution_count": 5,
   "metadata": {},
   "outputs": [],
   "source": [
    "def gamelife(grid,n):\n",
    "    egrid = jdv.enlarge_grid(grid)\n",
    "    for iter in range(n):\n",
    "        egrid = jdv.evolution_store(egrid)\n",
    "        nalive,percent = statalive(egrid)\n",
    "        #print(\"{0} cellules vivantes soit {1:.2f} %\".format(nalive,percent))\n",
    "\n",
    "def gamelife_print(grid,n):\n",
    "    import matplotlib.pyplot as plt\n",
    "    egrid = jdv.enlarge_grid(grid)\n",
    "    fig, ax = plt.subplots()\n",
    "    for iter in range(n):\n",
    "        egrid = jdv.evolution_store(egrid)\n",
    "        nalive,percent = statalive(egrid)\n",
    "        ax.cla()\n",
    "        ax.imshow(egrid,cmap=\"Greys\")\n",
    "        print(\"{0} cellules vivantes soit {1:.2f} %\".format(nalive,percent))\n",
    "        plt.pause(0.1)"
   ]
  },
  {
   "cell_type": "markdown",
   "metadata": {},
   "source": [
    "### run complet sur 10 itérations"
   ]
  },
  {
   "cell_type": "code",
   "execution_count": 6,
   "metadata": {},
   "outputs": [
    {
     "name": "stdout",
     "output_type": "stream",
     "text": [
      "Using matplotlib backend: Qt5Agg\n",
      "22.4 s ± 407 ms per loop (mean ± std. dev. of 7 runs, 1 loop each)\n"
     ]
    }
   ],
   "source": [
    "%matplotlib\n",
    "grid = jdv.init_grid(1000)\n",
    "%timeit gamelife(grid,10)"
   ]
  },
  {
   "cell_type": "markdown",
   "metadata": {},
   "source": [
    "### Résultats\n",
    "Une 20aine de secondes en moyenne en version séquentielle"
   ]
  }
 ],
 "metadata": {
  "kernelspec": {
   "display_name": "Python 3",
   "language": "python",
   "name": "python3"
  },
  "language_info": {
   "codemirror_mode": {
    "name": "ipython",
    "version": 3
   },
   "file_extension": ".py",
   "mimetype": "text/x-python",
   "name": "python",
   "nbconvert_exporter": "python",
   "pygments_lexer": "ipython3",
   "version": "3.7.1"
  }
 },
 "nbformat": 4,
 "nbformat_minor": 2
}
