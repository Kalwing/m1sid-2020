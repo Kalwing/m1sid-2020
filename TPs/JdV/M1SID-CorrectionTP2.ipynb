{
 "cells": [
  {
   "cell_type": "markdown",
   "metadata": {},
   "source": [
    "# Correction TP 2"
   ]
  },
  {
   "cell_type": "code",
   "execution_count": 6,
   "metadata": {},
   "outputs": [],
   "source": [
    "import masterjdv2 as jdv\n",
    "import numpy as np"
   ]
  },
  {
   "cell_type": "markdown",
   "metadata": {},
   "source": [
    "## Creation d'une grille 2000 x 2000"
   ]
  },
  {
   "cell_type": "code",
   "execution_count": 7,
   "metadata": {},
   "outputs": [],
   "source": [
    "grid = jdv.init_grid(2000)"
   ]
  },
  {
   "cell_type": "markdown",
   "metadata": {},
   "source": [
    "## Fonction d'élargissement de la grille\n",
    "Si la grille initiale est de taille idim X jdim alors la grille élargie est de taille idim+2 X jdim+2 "
   ]
  },
  {
   "cell_type": "code",
   "execution_count": 8,
   "metadata": {},
   "outputs": [],
   "source": [
    "def enlarge_grid(grid):\n",
    "    idim,jdim = grid.shape\n",
    "    res_grid = np.zeros((idim + 2,jdim + 2))\n",
    "    res_grid[1:idim + 1,1:jdim + 1] = grid[:,:]\n",
    "    return res_grid"
   ]
  },
  {
   "cell_type": "code",
   "execution_count": 14,
   "metadata": {},
   "outputs": [],
   "source": [
    "def evolution_eg(grid):\n",
    "    # grid is an enlarge grid\n",
    "    idim = grid.shape[0]\n",
    "    jdim = grid.shape[1]\n",
    "    res_grid = np.zeros((idim,jdim))\n",
    "    # we start from 1 to idim-1\n",
    "    for i in range(1,jdim - 1):\n",
    "        for j in range(1,jdim - 1):\n",
    "            # by default cell_state is dead\n",
    "            cell_state = 0\n",
    "            # loop over neighs to count living cells\n",
    "            nb_neigh = 0\n",
    "            # loop over neighs to count living cells\n",
    "            for ii in [i - 1,i,i + 1]:\n",
    "                for jj in [j - 1,j,j + 1]:\n",
    "                    if grid[ii,jj] == 1:\n",
    "                        nb_neigh = nb_neigh + 1\n",
    "            # in my count I count current cell itself substract the value\n",
    "            nb_neigh = nb_neigh - grid[i,j]\n",
    "            # if 2 neighbors cell state isn't modified\n",
    "            if nb_neigh == 2:\n",
    "                cell_state = grid[i,j]\n",
    "            # if 3 neighbors cell state is alive\n",
    "            elif nb_neigh == 3:\n",
    "                cell_state = 1\n",
    "            # in other case cell state is dead (default state)\n",
    "            res_grid[i,j] = cell_state\n",
    "    return res_grid"
   ]
  },
  {
   "cell_type": "markdown",
   "metadata": {},
   "source": [
    "## Création d'une grille élargie"
   ]
  },
  {
   "cell_type": "code",
   "execution_count": 10,
   "metadata": {},
   "outputs": [],
   "source": [
    "egrid = enlarge_grid(grid)"
   ]
  },
  {
   "cell_type": "markdown",
   "metadata": {},
   "source": [
    "## Comparaison des temps d'exécution"
   ]
  },
  {
   "cell_type": "code",
   "execution_count": 29,
   "metadata": {},
   "outputs": [
    {
     "name": "stdout",
     "output_type": "stream",
     "text": [
      "40.1 s ± 1.75 s per loop (mean ± std. dev. of 7 runs, 1 loop each)\n"
     ]
    }
   ],
   "source": [
    "%timeit jdv.evolution1(grid)"
   ]
  },
  {
   "cell_type": "code",
   "execution_count": 30,
   "metadata": {},
   "outputs": [
    {
     "name": "stdout",
     "output_type": "stream",
     "text": [
      "32.1 s ± 2.8 s per loop (mean ± std. dev. of 7 runs, 1 loop each)\n"
     ]
    }
   ],
   "source": [
    "%timeit jdv.evolution2(grid)"
   ]
  },
  {
   "cell_type": "code",
   "execution_count": 33,
   "metadata": {},
   "outputs": [
    {
     "name": "stdout",
     "output_type": "stream",
     "text": [
      "28 s ± 2.91 s per loop (mean ± std. dev. of 7 runs, 1 loop each)\n"
     ]
    }
   ],
   "source": [
    "%timeit evolution_eg(egrid)"
   ]
  },
  {
   "cell_type": "markdown",
   "metadata": {},
   "source": [
    "## Résultats gains de temps\n",
    "rappel evolution2 : ~ 20% de par rapport à evolution1\n",
    "\n",
    "evolution_eg : ~ 16% par rapport à evolution2 ; ~ 35% par rapport à evolution1"
   ]
  },
  {
   "cell_type": "markdown",
   "metadata": {},
   "source": [
    "## Bonus : Unrolling\n",
    "Dans evolution_eg on réalise deux boucles imbriquées de i-1 à i+1 et de j-1 à j+1 on peut écrire explicitement la somme des termes, il s'agit d'un procédé d'unrolling (déroulement des petites boucles), on peut même supprimer le terme à la position i,j"
   ]
  },
  {
   "cell_type": "code",
   "execution_count": 34,
   "metadata": {},
   "outputs": [],
   "source": [
    "def evolution_unroll(grid):\n",
    "    idim = grid.shape[0]\n",
    "    jdim = grid.shape[1]\n",
    "    res_grid = np.zeros((idim,jdim))\n",
    "    for i in range(1,idim - 1):\n",
    "        for j in range(1,jdim - 1):\n",
    "            nb_neigh = grid[i - 1,j - 1] + grid[i - 1,j] + grid[i - 1,j + 1] \\\n",
    "                     + grid[i,j - 1]     + grid[ i,j + 1] \\\n",
    "                     + grid[i + 1,j - 1] + grid[i + 1,j] + grid[i + 1,j + 1]  \n",
    "            if nb_neigh == 2:\n",
    "                res_grid[i,j] = grid[i,j]\n",
    "            elif nb_neigh == 3:\n",
    "                res_grid[i,j] = 1\n",
    "    return res_grid"
   ]
  },
  {
   "cell_type": "code",
   "execution_count": 35,
   "metadata": {},
   "outputs": [
    {
     "name": "stdout",
     "output_type": "stream",
     "text": [
      "15.2 s ± 1.38 s per loop (mean ± std. dev. of 7 runs, 1 loop each)\n"
     ]
    }
   ],
   "source": [
    "%timeit evolution_unroll(egrid)"
   ]
  },
  {
   "cell_type": "markdown",
   "metadata": {},
   "source": [
    "## Résultats gains de temps\n",
    "evolution_unroll : 46% de par rapport à evolution_eg ; 65% par rapport à evolution1"
   ]
  },
  {
   "cell_type": "markdown",
   "metadata": {},
   "source": [
    "## Store\n",
    "Pour le stockage on peut également utiliser de l'unrolling, par contre on ne doit pas supprimer le terme i,j car cela créerait un biais"
   ]
  },
  {
   "cell_type": "code",
   "execution_count": 38,
   "metadata": {},
   "outputs": [],
   "source": [
    "def evolution_store(grid):\n",
    "    idim,jdim= grid.shape\n",
    "    res_grid = np.zeros((idim,jdim))\n",
    "    for i in range(1,idim-1):\n",
    "        #specific case j=1 for initial storage values\n",
    "        store0 = 0 # because store0=grid[i-1,0]+grid[i,0]+grid[i+1,0] all zeros\n",
    "        store1 = grid[i - 1,1] + grid[i,1] + grid[i + 1,1] # j=1\n",
    "        store2 = grid[i - 1,2] + grid[i,2] + grid[i + 1,2] # j+1=2\n",
    "        nb_neigh = store0 + store1 + store2 - grid[i,1] # substract the element (i,j)\n",
    "        if nb_neigh == 2:\n",
    "            res_grid[i,1] = grid[i,1]\n",
    "        elif nb_neigh == 3:\n",
    "            res_grid[i,1] = 1\n",
    "        # loop on j (we begin with j=2)\n",
    "        for j in range(2,jdim - 1):\n",
    "            # switch the storage values\n",
    "            store0 = store1\n",
    "            store1 = store2\n",
    "            #compute the 3rd storage value\n",
    "            store2 = grid[i - 1,j + 1] + grid[i,j + 1] + grid[i + 1,j + 1]   # 3rd subcolumn\n",
    "            # compute nb_neigh\n",
    "            nb_neigh = store0 + store1 + store2 - grid[i,j] # substract the element (i,j)\n",
    "            if nb_neigh == 2:\n",
    "                res_grid[i,j] = grid[i,j]\n",
    "            elif nb_neigh == 3:\n",
    "                res_grid[i,j] = 1\n",
    "    return res_grid"
   ]
  },
  {
   "cell_type": "code",
   "execution_count": 39,
   "metadata": {},
   "outputs": [
    {
     "name": "stdout",
     "output_type": "stream",
     "text": [
      "8.31 s ± 154 ms per loop (mean ± std. dev. of 7 runs, 1 loop each)\n"
     ]
    }
   ],
   "source": [
    "%timeit evolution_store(egrid)"
   ]
  },
  {
   "cell_type": "markdown",
   "metadata": {},
   "source": [
    "## Résultats gains de temps\n",
    "evolution_store : ~ 46% de par rapport à evolution_unroll ; ~ 80% par rapport à evolution1"
   ]
  }
 ],
 "metadata": {
  "kernelspec": {
   "display_name": "Python 3",
   "language": "python",
   "name": "python3"
  },
  "language_info": {
   "codemirror_mode": {
    "name": "ipython",
    "version": 3
   },
   "file_extension": ".py",
   "mimetype": "text/x-python",
   "name": "python",
   "nbconvert_exporter": "python",
   "pygments_lexer": "ipython3",
   "version": "3.7.1"
  }
 },
 "nbformat": 4,
 "nbformat_minor": 2
}
